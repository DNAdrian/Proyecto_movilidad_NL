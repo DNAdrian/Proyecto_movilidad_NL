{
 "cells": [
  {
   "cell_type": "code",
   "execution_count": 13,
   "id": "8fc3cba2",
   "metadata": {},
   "outputs": [],
   "source": [
    "###pip install pandas sqlalchemy pymysql"
   ]
  },
  {
   "cell_type": "code",
   "execution_count": 1,
   "id": "55728e5f",
   "metadata": {},
   "outputs": [],
   "source": [
    "# HTTP requests to get data from an API\n",
    "import requests\n",
    "# Data manipulation and analysis.\n",
    "import pandas as pd\n",
    "# maybe\n",
    "import numpy as np\n",
    "# Represent dates\n",
    "import datetime\n",
    "#json manipulation\n",
    "import json\n",
    "#directory management\n",
    "import os\n",
    "#security issues\n",
    "from sqlalchemy import create_engine\n",
    "\n",
    "\n",
    "# Print all collumns of a dataframe\n",
    "pd.set_option('display.max_columns', None)\n",
    "# Print all of the data in a feature\n",
    "pd.set_option('display.max_colwidth', None)"
   ]
  },
  {
   "cell_type": "code",
   "execution_count": 2,
   "id": "728d69fa",
   "metadata": {},
   "outputs": [],
   "source": [
    "#Leer credenciales\n",
    "host = os.getenv(\"MYSQL_host\")\n",
    "port = '3306'\n",
    "user = os.getenv(\"MYSQL_user\")\n",
    "password = os.getenv(\"MYSQL_contra\")\n",
    "database = os.getenv(\"MYSQL_DB\")\n",
    "inegi=os.getenv(\"inegi_key\")"
   ]
  },
  {
   "cell_type": "markdown",
   "id": "9b35f410",
   "metadata": {},
   "source": [
    "<h3>Seleccion de municipios a extraer<h3>"
   ]
  },
  {
   "cell_type": "markdown",
   "id": "9ef4196c",
   "metadata": {},
   "source": [
    "Se requiere crear un df con el nombre de los municipios asi como sus claves para usar la API despues y extraer especificamente la localidad que buscamos."
   ]
  },
  {
   "cell_type": "code",
   "execution_count": 3,
   "id": "864c974d",
   "metadata": {},
   "outputs": [
    {
     "name": "stdout",
     "output_type": "stream",
     "text": [
      "                   municipio          code\n",
      "0                    Apodaca  070000190006\n",
      "1          Cadereyta Jimenez  070000190009\n",
      "2                  El Carmen  070000190010\n",
      "3                     Garcia  070000190018\n",
      "4     San Pedro Garza Garcia  070000190019\n",
      "5           General Escobedo  070000190021\n",
      "6                  Guadalupe  070000190026\n",
      "7                     Juarez  070000190031\n",
      "8                  Monterrey  070000190039\n",
      "9           Salinas Victoria  070000190045\n",
      "10  San Nicolas de los Garza  070000190046\n",
      "11            Santa Catarina  070000190048\n",
      "12                  Santiago  070000190049\n"
     ]
    }
   ],
   "source": [
    "#create dataset with location codes\n",
    "pre={'municipio': ['Apodaca', 'Cadereyta Jimenez', 'El Carmen', 'Garcia','San Pedro Garza Garcia','General Escobedo',\n",
    "                   'Guadalupe','Juarez','Monterrey','Salinas Victoria','San Nicolas de los Garza','Santa Catarina','Santiago'],\n",
    "        'code': ['070000190006', '070000190009', '070000190010', '070000190018','070000190019','070000190021',\n",
    "                 '070000190026','070000190031','070000190039','070000190045','070000190046','070000190048','070000190049']}\n",
    "\n",
    "claves = pd.DataFrame(pre)\n",
    "print(claves)"
   ]
  },
  {
   "cell_type": "markdown",
   "id": "46badb6e",
   "metadata": {},
   "source": [
    "URL base que usamos para posteriormente modificar el segmento correspondiente a la entidad geografica a analizar \"700\"."
   ]
  },
  {
   "cell_type": "code",
   "execution_count": 42,
   "id": "e474c8fe",
   "metadata": {},
   "outputs": [],
   "source": [
    "url_base= (f'https://www.inegi.org.mx/app/api/indicadores/desarrolladores/jsonxml/INDICATOR/6200240329/es/07000019/false/BISE/2.0/{inegi}?type=json')"
   ]
  },
  {
   "cell_type": "markdown",
   "id": "6633508b",
   "metadata": {},
   "source": [
    "Reemplazamos el valor de la URL base con el metodo replace y un f-string para hacer una lista con las URLs de cada municipio del area metropolitana de N.L. "
   ]
  },
  {
   "cell_type": "code",
   "execution_count": 37,
   "id": "49c80bb6",
   "metadata": {},
   "outputs": [],
   "source": [
    "urls_actualizadas = [\n",
    "    url_base.replace(\"0700\", code) for code in claves['code']\n",
    "]"
   ]
  },
  {
   "cell_type": "code",
   "execution_count": 43,
   "id": "ffdd59d2",
   "metadata": {},
   "outputs": [
    {
     "data": {
      "text/plain": [
       "b'[\"ErrorInfo:No se encontraron resultados\",\"ErrorDetails:No se encontraron resultados\",\"ErrorCode:100\"]'"
      ]
     },
     "execution_count": 43,
     "metadata": {},
     "output_type": "execute_result"
    }
   ],
   "source": [
    "##Practica para evaluar que era una lista y obtener una idea del esqueleto del JSON\n",
    "response = requests.get(url_base)\n",
    "response.content"
   ]
  },
  {
   "cell_type": "markdown",
   "id": "0a724303",
   "metadata": {},
   "source": [
    "Realizar una funcion para acortar pasos. En donde se convierte el json en un diccionario del cual nos adentramos a 'series' y luego al apartado 'OBSERVATIONS' del cual se genera una variable. De la anterior variable se identifican las etiquetas de nuestro interes para obtener los valores que buscamos y se mandan a una lista llamada 'extracted_data'."
   ]
  },
  {
   "cell_type": "code",
   "execution_count": 6,
   "id": "5cb34cd8",
   "metadata": {},
   "outputs": [],
   "source": [
    "def procesar_json(json_data):\n",
    "    try:\n",
    "        observations = json_data.get(\"Series\", [])[0].get(\"OBSERVATIONS\", [])\n",
    "        for obs in observations:\n",
    "            extracted_data.append({\n",
    "                \"TIME_PERIOD\": obs[\"TIME_PERIOD\"],\n",
    "                \"OBS_VALUE\": obs[\"OBS_VALUE\"],\n",
    "                \"COBER_GEO\": obs[\"COBER_GEO\"]\n",
    "            })\n",
    "    except Exception as e:\n",
    "        print(f\"Error procesando JSON: {e}\")"
   ]
  },
  {
   "cell_type": "markdown",
   "id": "ba23c57d",
   "metadata": {},
   "source": [
    "Creación de extracted_data global: Se almacena fuera de la funcion para permitir que los datos procesados se acumulen y se combinen en un solo DataFrame. Se añade un for loop para hacer cada request de la lista de los URLs. Y se convierte todo lo obtenido al final de la funcion en un dataframe."
   ]
  },
  {
   "cell_type": "code",
   "execution_count": 7,
   "id": "6f2d49d4",
   "metadata": {},
   "outputs": [
    {
     "name": "stdout",
     "output_type": "stream",
     "text": [
      "Solicitud exitosa para: 200\n",
      "Solicitud exitosa para: 200\n",
      "Solicitud exitosa para: 200\n",
      "Solicitud exitosa para: 200\n",
      "Solicitud exitosa para: 200\n",
      "Solicitud exitosa para: 200\n",
      "Solicitud exitosa para: 200\n",
      "Solicitud exitosa para: 200\n",
      "Solicitud exitosa para: 200\n",
      "Solicitud exitosa para: 200\n",
      "Solicitud exitosa para: 200\n",
      "Solicitud exitosa para: 200\n",
      "Solicitud exitosa para: 200\n"
     ]
    }
   ],
   "source": [
    "extracted_data = []\n",
    "for i in range(len(urls_actualizadas)):\n",
    "    try:\n",
    "        # Realizar la solicitud GET\n",
    "        response = requests.get(urls_actualizadas[i])\n",
    "        print(f\"Solicitud exitosa para: {response.status_code}\")\n",
    "        procesar_json(response.json())\n",
    "    except requests.exceptions.RequestException as e:\n",
    "        # Posibles errores de conexión Checar luego como hacerlo mas fino\n",
    "        print(f\"Error en la solicitud para {i}: {e}\")\n",
    "poblacion_total= pd.DataFrame(extracted_data)"
   ]
  },
  {
   "cell_type": "markdown",
   "id": "961aa093",
   "metadata": {},
   "source": [
    "Cambio de nombre de headers del dataframe "
   ]
  },
  {
   "cell_type": "code",
   "execution_count": 8,
   "id": "9d9b300f",
   "metadata": {},
   "outputs": [],
   "source": [
    "poblacion_total.rename(columns={'TIME_PERIOD': 'Year', 'OBS_VALUE': 'Poblacion_total','COBER_GEO': 'code'}, inplace=True)"
   ]
  },
  {
   "cell_type": "markdown",
   "id": "6dc1bb8f",
   "metadata": {},
   "source": [
    "Checar el tipo de datos del dataframe para posteriormente cambiarlos a uno adecuado para el analisis y posterior carga a la base de datos"
   ]
  },
  {
   "cell_type": "code",
   "execution_count": 9,
   "id": "e7b4dff1",
   "metadata": {},
   "outputs": [
    {
     "data": {
      "text/plain": [
       "Year               object\n",
       "Poblacion_total    object\n",
       "code               object\n",
       "dtype: object"
      ]
     },
     "execution_count": 9,
     "metadata": {},
     "output_type": "execute_result"
    }
   ],
   "source": [
    "poblacion_total.dtypes"
   ]
  },
  {
   "cell_type": "code",
   "execution_count": 10,
   "id": "cf54cd67",
   "metadata": {},
   "outputs": [],
   "source": [
    "# Manejar valores nulos o incorrectos antes de la conversión\n",
    "poblacion_total['Poblacion_total'] = pd.to_numeric(poblacion_total['Poblacion_total'], errors='coerce')\n",
    "\n",
    "# Llenar valores nulos con 0 o eliminarlos según sea necesario\n",
    "poblacion_total['Poblacion_total'].fillna(0, inplace=True)\n",
    "\n",
    "# Convertir a int\n",
    "poblacion_total = poblacion_total.astype({\n",
    "    'Poblacion_total': 'float',\n",
    "    'code': 'string',\n",
    "    'Year': 'string'\n",
    "})"
   ]
  },
  {
   "cell_type": "code",
   "execution_count": 22,
   "id": "9daaca38",
   "metadata": {},
   "outputs": [
    {
     "data": {
      "text/html": [
       "<div>\n",
       "<style scoped>\n",
       "    .dataframe tbody tr th:only-of-type {\n",
       "        vertical-align: middle;\n",
       "    }\n",
       "\n",
       "    .dataframe tbody tr th {\n",
       "        vertical-align: top;\n",
       "    }\n",
       "\n",
       "    .dataframe thead th {\n",
       "        text-align: right;\n",
       "    }\n",
       "</style>\n",
       "<table border=\"1\" class=\"dataframe\">\n",
       "  <thead>\n",
       "    <tr style=\"text-align: right;\">\n",
       "      <th></th>\n",
       "      <th>Year</th>\n",
       "      <th>Poblacion_total</th>\n",
       "      <th>code</th>\n",
       "    </tr>\n",
       "  </thead>\n",
       "  <tbody>\n",
       "    <tr>\n",
       "      <th>0</th>\n",
       "      <td>1995</td>\n",
       "      <td>219153.0</td>\n",
       "      <td>070000190006</td>\n",
       "    </tr>\n",
       "    <tr>\n",
       "      <th>1</th>\n",
       "      <td>2000</td>\n",
       "      <td>283497.0</td>\n",
       "      <td>070000190006</td>\n",
       "    </tr>\n",
       "    <tr>\n",
       "      <th>2</th>\n",
       "      <td>2005</td>\n",
       "      <td>418784.0</td>\n",
       "      <td>070000190006</td>\n",
       "    </tr>\n",
       "    <tr>\n",
       "      <th>3</th>\n",
       "      <td>2010</td>\n",
       "      <td>523370.0</td>\n",
       "      <td>070000190006</td>\n",
       "    </tr>\n",
       "    <tr>\n",
       "      <th>4</th>\n",
       "      <td>2020</td>\n",
       "      <td>656464.0</td>\n",
       "      <td>070000190006</td>\n",
       "    </tr>\n",
       "    <tr>\n",
       "      <th>...</th>\n",
       "      <td>...</td>\n",
       "      <td>...</td>\n",
       "      <td>...</td>\n",
       "    </tr>\n",
       "    <tr>\n",
       "      <th>60</th>\n",
       "      <td>1995</td>\n",
       "      <td>34187.0</td>\n",
       "      <td>070000190049</td>\n",
       "    </tr>\n",
       "    <tr>\n",
       "      <th>61</th>\n",
       "      <td>2000</td>\n",
       "      <td>36812.0</td>\n",
       "      <td>070000190049</td>\n",
       "    </tr>\n",
       "    <tr>\n",
       "      <th>62</th>\n",
       "      <td>2005</td>\n",
       "      <td>37886.0</td>\n",
       "      <td>070000190049</td>\n",
       "    </tr>\n",
       "    <tr>\n",
       "      <th>63</th>\n",
       "      <td>2010</td>\n",
       "      <td>40469.0</td>\n",
       "      <td>070000190049</td>\n",
       "    </tr>\n",
       "    <tr>\n",
       "      <th>64</th>\n",
       "      <td>2020</td>\n",
       "      <td>46784.0</td>\n",
       "      <td>070000190049</td>\n",
       "    </tr>\n",
       "  </tbody>\n",
       "</table>\n",
       "<p>65 rows × 3 columns</p>\n",
       "</div>"
      ],
      "text/plain": [
       "    Year  Poblacion_total          code\n",
       "0   1995         219153.0  070000190006\n",
       "1   2000         283497.0  070000190006\n",
       "2   2005         418784.0  070000190006\n",
       "3   2010         523370.0  070000190006\n",
       "4   2020         656464.0  070000190006\n",
       "..   ...              ...           ...\n",
       "60  1995          34187.0  070000190049\n",
       "61  2000          36812.0  070000190049\n",
       "62  2005          37886.0  070000190049\n",
       "63  2010          40469.0  070000190049\n",
       "64  2020          46784.0  070000190049\n",
       "\n",
       "[65 rows x 3 columns]"
      ]
     },
     "execution_count": 22,
     "metadata": {},
     "output_type": "execute_result"
    }
   ],
   "source": [
    "#Ver los valores del df\n",
    "poblacion_total"
   ]
  },
  {
   "cell_type": "markdown",
   "id": "00ab1b9d",
   "metadata": {},
   "source": [
    "Conexion a MySQL usando credenciales previas y seleccion de la tabla a donde cargar el archivo. En este caso la tabla ya estaba creada y definida."
   ]
  },
  {
   "cell_type": "code",
   "execution_count": 2,
   "id": "b6c3d42b",
   "metadata": {
    "scrolled": false
   },
   "outputs": [
    {
     "data": {
      "text/plain": [
       "'\\n# Crear conexión a MySQL\\ntry:\\n    engine = create_engine(f\\'mysql+pymysql://{user}:{password}@{host}:{port}/{database}\\')\\n    print(\"Conexión a MySQL exitosa.\")\\nexcept Exception as e:\\n    print(f\"Error al conectar a MySQL: {e}\")\\n\\n# Subir el DataFrame al servidor MySQL\\ntry:\\n    table_name = \\'Ingreso_trimestral_hogar_NL\\'\\n    Ingreso_trim_hogar_NL.to_sql(table_name, con=engine, if_exists=\\'replace\\', index=False)\\n    print(f\"Datos subidos exitosamente a la tabla \\'{table_name}\\'.\")\\nexcept Exception as e:\\n    print(f\"Error al subir datos: {e}\")\\n    '"
      ]
     },
     "execution_count": 2,
     "metadata": {},
     "output_type": "execute_result"
    }
   ],
   "source": [
    "# Crear conexión a MySQL\n",
    "try:\n",
    "    engine = create_engine(f'mysql+pymysql://{user}:{password}@{host}:{port}/{database}')\n",
    "    print(\"Conexión a MySQL exitosa.\")\n",
    "except Exception as e:\n",
    "    print(f\"Error al conectar a MySQL: {e}\")\n",
    "\n",
    "# Subir el DataFrame al servidor MySQL\n",
    "try:\n",
    "    table_name = 'Ingreso_trimestral_hogar_NL'\n",
    "    Ingreso_trim_hogar_NL.to_sql(table_name, con=engine, if_exists='replace', index=False)\n",
    "    print(f\"Datos subidos exitosamente a la tabla '{table_name}'.\")\n",
    "except Exception as e:\n",
    "    print(f\"Error al subir datos: {e}\")"
   ]
  },
  {
   "cell_type": "markdown",
   "id": "285f22f0",
   "metadata": {},
   "source": [
    "Guardado del dataframe en formato csv en caso de usar IA generativa."
   ]
  },
  {
   "cell_type": "code",
   "execution_count": 6,
   "id": "5b3c338e",
   "metadata": {},
   "outputs": [],
   "source": [
    "Gasto_trim_transp_NL.to_csv(\"Gasto_trim_transp_NL.csv\", index=False)"
   ]
  },
  {
   "cell_type": "markdown",
   "id": "45e94ae5",
   "metadata": {},
   "source": [
    "<h3>Recopilacion de otros datos relevantes para analisis<h3>\n",
    "Debido a limitantes en accesibilidad usando la API del INEGI, los siguientes datos fueron recopilados de manera manual"
   ]
  },
  {
   "cell_type": "markdown",
   "id": "c1e62944",
   "metadata": {},
   "source": [
    "**Ingreso corriente total promedio trimestral por hogar en NL (ingreso por trabajo):**\n",
    "Se realizo una recopilacion de este indicador en el buscador utilizando el siguiente termino: \"Ingreso corriente total promedio trimestral por hogar, nuevo leon [año a consultar]\". Los datos obtenidos proceden de reportes del INEGI que utilizan la Encuesta Nacional de Ingresos y Gastos de los Hogares(ENIGH).\n",
    "\n",
    "*NOTA1:* Se considera el ingreso por trabajo para este analisis puesto que una buena parte de la gente que se transporta en el sistema publico corresponde a la clase trabajadora\n",
    "\n",
    "*NOTA2:* Para el año 2020 se tomo un promedio de los dos valores disponibles en los reportes, de igual manera se determino el valor del año 2016 en base al ingreso total promedio trimestral y al valor promedio de las tasas de variacion entre el ingreso total promedio trimestral de cada año y su respectivo ingreso por trabajo."
   ]
  },
  {
   "cell_type": "markdown",
   "id": "f2fd1aa6",
   "metadata": {},
   "source": [
    "Las URLS de los reportes que se utilizaron son:\n",
    "- [ENIGH2016](https://www.inegi.org.mx/contenidos/programas/enigh/nc/2016/doc/presentacion_resultados_enigh2016.pdf)\n",
    "- [ENIGH2020](https://www.inegi.org.mx/contenidos/programas/enigh/nc/2020/doc/enigh2020_ns_presentacion_resultados_nl.pdf)\n",
    "- [ENIGH2022-interact](https://www.inegi.org.mx/app/tabulados/interactivos/?pxq=Hogares_Hogares_10_8a5eaa85-f8a0-41f2-ae0a-cdc75a171b32&idrt=54&opc=t)"
   ]
  },
  {
   "cell_type": "code",
   "execution_count": 3,
   "id": "9d0526bc",
   "metadata": {},
   "outputs": [],
   "source": [
    "#Creacion del df\n",
    "recop={'year': ['2022', '2020', '2018', '2016'],\n",
    "        'ingreso': ['58798', '47855', '49484', '57324.90054']}\n",
    "\n",
    "Ingreso_trim_hogar_NL = pd.DataFrame(recop)"
   ]
  },
  {
   "cell_type": "markdown",
   "id": "b89b26ee",
   "metadata": {},
   "source": [
    "**Gasto corriente monetario promedio trimestral por hogar en transporte publico, NL:** Se realizo una recopilacion de este indicador usando los reportes de inegi anteriores y algunos incluidos a continuacion.\n",
    "- [ENIGH2022-reporte](https://www.inegi.org.mx/contenidos/programas/enigh/nc/2022/doc/enigh2022_ns_presentacion_resultados_nl.pdf)"
   ]
  },
  {
   "cell_type": "code",
   "execution_count": 4,
   "id": "1d6be4ea",
   "metadata": {},
   "outputs": [],
   "source": [
    "#Creacion del df\n",
    "recop2={'year': ['2022', '2020', '2018', '2016'],\n",
    "        'gasto': ['1642', '1431', '2320', '1469']}\n",
    "\n",
    "Gasto_trim_transp_NL = pd.DataFrame(recop2)"
   ]
  },
  {
   "cell_type": "markdown",
   "id": "97af78a0",
   "metadata": {},
   "source": [
    "**TranporteNL_inegi:**\n",
    "Existen datos respecto al transporte urbano de monterrey en el sitio del INEGI. Se recopilaron los datos de transporte urbano de pasajeros de la ciudad de Monterrey, abarcando los sistemas de metro, ecovia, transmetro y metrobus. Los filtros utilizados para la consulta involucran todas las variables con excepcion de numero de rutas para el caso de ecovia y metro, todos los meses del año y el periodo que abarca de 2020-2024. *Sitio donde fueron recopilados:*[Transporte Urbano de Pasajeros INEGI](https://www.inegi.org.mx/programas/transporteurbano/#tabulados)\n",
    "\n",
    "Se descargaron archivos .xlxs de cada una de las consultas hechas. Posteriormente, todos los datos fueron compilados en un solo archivo .xlxs para su posterior limpieza."
   ]
  },
  {
   "cell_type": "markdown",
   "id": "2f44d155",
   "metadata": {},
   "source": [
    "**NOTA:** Las lineas de codigo a continuacion consideran que ya se realizaron las predicciones de los valores faltantes, asi como, la limpieza del conjunto de datos de TransporteNL_inegi. Los pasos a continuacion solo funcionaron para actualizar las tablas con valores predichos asi como las faltantes al servidor de MySQL"
   ]
  },
  {
   "cell_type": "code",
   "execution_count": 9,
   "id": "33c62cd9",
   "metadata": {},
   "outputs": [],
   "source": [
    "##subir otros dataset a mysql\n",
    "pop = pd.read_csv(\"Gasto_trim_transp_NL_modeled.csv\")"
   ]
  },
  {
   "cell_type": "code",
   "execution_count": 10,
   "id": "20426eda",
   "metadata": {},
   "outputs": [
    {
     "name": "stdout",
     "output_type": "stream",
     "text": [
      "Conexión a MySQL exitosa.\n",
      "Datos subidos exitosamente a la tabla 'gasto_trim_transp_nl'.\n"
     ]
    }
   ],
   "source": [
    "# Crear conexión a MySQL\n",
    "try:\n",
    "    engine = create_engine(f'mysql+pymysql://{user}:{password}@{host}:{port}/{database}')\n",
    "    print(\"Conexión a MySQL exitosa.\")\n",
    "except Exception as e:\n",
    "    print(f\"Error al conectar a MySQL: {e}\")\n",
    "\n",
    "# Subir el DataFrame al servidor MySQL\n",
    "try:\n",
    "    table_name = 'gasto_trim_transp_nl'\n",
    "    pop.to_sql(table_name, con=engine, if_exists='replace', index=False)\n",
    "    print(f\"Datos subidos exitosamente a la tabla '{table_name}'.\")\n",
    "except Exception as e:\n",
    "    print(f\"Error al subir datos: {e}\")"
   ]
  }
 ],
 "metadata": {
  "kernelspec": {
   "display_name": "Python 3 (ipykernel)",
   "language": "python",
   "name": "python3"
  },
  "language_info": {
   "codemirror_mode": {
    "name": "ipython",
    "version": 3
   },
   "file_extension": ".py",
   "mimetype": "text/x-python",
   "name": "python",
   "nbconvert_exporter": "python",
   "pygments_lexer": "ipython3",
   "version": "3.11.5"
  }
 },
 "nbformat": 4,
 "nbformat_minor": 5
}
